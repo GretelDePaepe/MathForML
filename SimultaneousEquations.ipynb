{
 "cells": [
  {
   "cell_type": "markdown",
   "metadata": {},
   "source": [
    "# Simultaneous Equations"
   ]
  },
  {
   "cell_type": "markdown",
   "metadata": {},
   "source": [
    "Consider the following two equations:\n",
    "$$2x + y = 6$$\n",
    "$$3x - 2y = 2$$"
   ]
  },
  {
   "cell_type": "markdown",
   "metadata": {},
   "source": [
    "A general system of m linear equations with n unknowns can be written as\n",
    "        $$a_{11}x_1 + a_{12}x_2 + ... + a_{1n}x_n = b_1$$\n",
    "        $$a_{21}x_1 + a_{22}x_2 + ... + a_{2n}x_n = b_2$$\n",
    "        $$...$$\n",
    "        $$a_{m1}x_1 + a_{m2}x_2 + ... + a_{mn}x_n = b_m$$"
   ]
  },
  {
   "cell_type": "markdown",
   "metadata": {},
   "source": [
    "There are many ways to solve simultaneous equations:\n",
    "* Elimination Method\n",
    "* Substitution Method\n",
    "* Graphical Method\n",
    "* Matrix Method\n",
    "\n",
    "For more see: http://www.vivaxsolutions.com/maths/gcsesmltnsequations.aspx"
   ]
  },
  {
   "cell_type": "markdown",
   "metadata": {},
   "source": [
    "## With sympy"
   ]
  },
  {
   "cell_type": "markdown",
   "metadata": {},
   "source": [
    "The algorithm used in sympy is fraction-free Gaussian elimination, which results, after elimination, in an upper-triangular matrix. Then solutions are found using back-substitution. This approach is more efficient and compact than the Gauss-Jordan method. (Source: http://docs.sympy.org/latest/modules/solvers/solvers.html)\n",
    "\n",
    "For more info, see https://files.eric.ed.gov/fulltext/EJ923724.pdf"
   ]
  },
  {
   "cell_type": "code",
   "execution_count": 4,
   "metadata": {
    "collapsed": true
   },
   "outputs": [],
   "source": [
    "import sympy as sy\n",
    "from sympy.plotting import plot"
   ]
  },
  {
   "cell_type": "code",
   "execution_count": 5,
   "metadata": {
    "collapsed": true
   },
   "outputs": [],
   "source": [
    "x1 = sy.Symbol('x1')\n",
    "x2 = sy.Symbol('x2')"
   ]
  },
  {
   "cell_type": "code",
   "execution_count": 6,
   "metadata": {},
   "outputs": [],
   "source": [
    "expr1 = 2*x1 + 1*x2 - 6\n",
    "expr2 = 3*x1 - 2*x2 - 2"
   ]
  },
  {
   "cell_type": "code",
   "execution_count": 7,
   "metadata": {},
   "outputs": [
    {
     "data": {
      "text/plain": [
       "[-2*x1 + 6]"
      ]
     },
     "execution_count": 7,
     "metadata": {},
     "output_type": "execute_result"
    }
   ],
   "source": [
    "sy.solve(expr1, x2)"
   ]
  },
  {
   "cell_type": "code",
   "execution_count": 8,
   "metadata": {},
   "outputs": [
    {
     "data": {
      "text/plain": [
       "[3*x1/2 - 1]"
      ]
     },
     "execution_count": 8,
     "metadata": {},
     "output_type": "execute_result"
    }
   ],
   "source": [
    "sy.solve(expr2, x2)"
   ]
  },
  {
   "cell_type": "code",
   "execution_count": 9,
   "metadata": {},
   "outputs": [
    {
     "data": {
      "image/png": "[encoded data removed]",
      "text/plain": [
       "<matplotlib.figure.Figure at 0x10d3ccd50>"
      ]
     },
     "metadata": {},
     "output_type": "display_data"
    }
   ],
   "source": [
    "p = plot(sy.solve(expr1, x2)[0],\n",
    "         sy.solve(expr2, x2)[0],\n",
    "         legend=True,\n",
    "         show=False)\n",
    "p[0].line_color = 'b'\n",
    "p[1].line_color = 'r'\n",
    "p.show()"
   ]
  },
  {
   "cell_type": "code",
   "execution_count": 10,
   "metadata": {},
   "outputs": [
    {
     "data": {
      "text/plain": [
       "[{x1: 2, x2: 2}]"
      ]
     },
     "execution_count": 10,
     "metadata": {},
     "output_type": "execute_result"
    }
   ],
   "source": [
    "sy.solve((expr1, expr2), dict=True)"
   ]
  },
  {
   "cell_type": "markdown",
   "metadata": {},
   "source": [
    "Example above inspired by https://www.amazon.com/Doing-Math-Python-Programming-Statistics/dp/1593276400"
   ]
  },
  {
   "cell_type": "markdown",
   "metadata": {},
   "source": [
    "## Matrix Method with numpy"
   ]
  },
  {
   "cell_type": "markdown",
   "metadata": {},
   "source": [
    "For a closer look into this method, see the following Khan Academy video:"
   ]
  },
  {
   "cell_type": "code",
   "execution_count": 11,
   "metadata": {
    "collapsed": true
   },
   "outputs": [],
   "source": [
    "import numpy as np\n",
    "import fractions\n",
    "np.set_printoptions(formatter={'all':lambda x: str(fractions.Fraction(x).limit_denominator())})"
   ]
  },
  {
   "cell_type": "code",
   "execution_count": 12,
   "metadata": {},
   "outputs": [
    {
     "data": {
      "text/html": [
       "<iframe width=\"560\" height=\"315\" src=\"https://youtube.be/embed/0_DYEFtlCiM?rel=0&amp;controls=0&amp;showinfo=0\" frameborder=\"0\" allowfullscreen></iframe>"
      ],
      "text/plain": [
       "<IPython.core.display.HTML object>"
      ]
     },
     "execution_count": 12,
     "metadata": {},
     "output_type": "execute_result"
    }
   ],
   "source": [
    "from IPython.display import HTML\n",
    "HTML('<iframe width=\"560\" height=\"315\" src=\"https://youtube.be/embed/0_DYEFtlCiM?rel=0&amp;controls=0&amp;showinfo=0\" frameborder=\"0\" allowfullscreen></iframe>')"
   ]
  },
  {
   "cell_type": "markdown",
   "metadata": {},
   "source": [
    "These were our two equations:\n",
    "$$2x + y = 6$$\n",
    "$$3x - 2y = 2$$"
   ]
  },
  {
   "cell_type": "code",
   "execution_count": 13,
   "metadata": {},
   "outputs": [],
   "source": [
    "# Just like in the video, we set A equal to the matrix containing\n",
    "# coefficients of x and y (s and t in the video)\n",
    "A = np.array([[2, 1],\n",
    "              [3, -2]])"
   ]
  },
  {
   "cell_type": "code",
   "execution_count": 14,
   "metadata": {},
   "outputs": [],
   "source": [
    "# We set b equal to the terms of degree one when isolated on one side\n",
    "# of the equation\n",
    "b = np.array([[6],\n",
    "              [2]])"
   ]
  },
  {
   "cell_type": "code",
   "execution_count": 15,
   "metadata": {
    "collapsed": true
   },
   "outputs": [],
   "source": [
    "# We will use the linear algebra module in numpy to obtain the \n",
    "# inverse matrix of A\n",
    "A_inv = np.linalg.inv(A)"
   ]
  },
  {
   "cell_type": "code",
   "execution_count": 16,
   "metadata": {},
   "outputs": [
    {
     "data": {
      "text/plain": [
       "array([[2/7, 1/7],\n",
       "       [3/7, -2/7]])"
      ]
     },
     "execution_count": 16,
     "metadata": {},
     "output_type": "execute_result"
    }
   ],
   "source": [
    "# Let's have a look\n",
    "A_inv"
   ]
  },
  {
   "cell_type": "code",
   "execution_count": 17,
   "metadata": {},
   "outputs": [
    {
     "data": {
      "text/plain": [
       "array([[1, 0],\n",
       "       [0, 1]])"
      ]
     },
     "execution_count": 17,
     "metadata": {},
     "output_type": "execute_result"
    }
   ],
   "source": [
    "# If we create the dot product of a matrix and its inverse, we should\n",
    "# get the identity matrix\n",
    "np.round(np.dot(A, A_inv))"
   ]
  },
  {
   "cell_type": "code",
   "execution_count": 18,
   "metadata": {},
   "outputs": [
    {
     "data": {
      "text/plain": [
       "array([[2],\n",
       "       [2]])"
      ]
     },
     "execution_count": 18,
     "metadata": {},
     "output_type": "execute_result"
    }
   ],
   "source": [
    "# What we are after though is to solve for x and y, we we get by \n",
    "# creating the dot product between the inverse of A and b\n",
    "# We should get the same result as above\n",
    "np.round(np.dot(A_inv, b))"
   ]
  },
  {
   "cell_type": "code",
   "execution_count": 19,
   "metadata": {
    "collapsed": true
   },
   "outputs": [],
   "source": [
    "# Let's put this into a function\n",
    "def solve_sim_eq(A, b):\n",
    "    \"\"\"\n",
    "    Description\n",
    "    ----------\n",
    "    Solves for the variables in a system of linear equations.\n",
    "    A general system of m linear equations with n unknowns\n",
    "    can be written as\n",
    "        a11x1 + a12x2 + ... + a1nxn = b1\n",
    "        a21x1 + a22x2 + ... + a2nxn = b2\n",
    "        ...\n",
    "        am1x1 + am2x2 + ... + amnxn = bm\n",
    "    Parameters\n",
    "    ----------\n",
    "    A = array of shape m by n, containing the a values\n",
    "    b = array of shape m by 1, containing the b values\n",
    "    Returns\n",
    "    -------\n",
    "    Array of shape m by 1 with the solutions for x1 to xn\n",
    "    Examples\n",
    "    --------\n",
    "    IN:\n",
    "    >>> A = np.array([[3., -2., 1.],\n",
    "                      [1., 1., 1.],\n",
    "                      [3., -2., -1.]])\n",
    "    >>> b = np.array([[7.],\n",
    "                     [2.],\n",
    "                     [3.]])\n",
    "    >>> solve_sim_eq(A, b)\n",
    "    OUT:\n",
    "    >>> array([[1],\n",
    "              [-1],\n",
    "              [2]])\n",
    "    \"\"\"\n",
    "    A = A.astype(np.float64)\n",
    "    b = b.astype(np.float64)\n",
    "    if np.linalg.det(A) != 0:\n",
    "        A_inv = np.linalg.inv(A)\n",
    "        return np.round(np.dot(A_inv, b), 10)\n",
    "    else: # if the determant is 0, matrix A is singular (no inverse)\n",
    "        # Either the lines are all the same or they are parallel\n",
    "        # The following tests this\n",
    "        test = np.sum(A, axis=1) / b.reshape(1, b.shape[0])\n",
    "        t = test[0, 0]\n",
    "        if len(test[test != t]) == 0: # Means they are the same\n",
    "             return [np.Infinity]\n",
    "        else: # Means they are parallel\n",
    "            return []"
   ]
  },
  {
   "cell_type": "markdown",
   "metadata": {},
   "source": [
    "## Examples"
   ]
  },
  {
   "cell_type": "markdown",
   "metadata": {},
   "source": [
    "### Let's have a look at an example with 3 unknowns.  \n",
    "\n",
    "For 3 unknowns we need 3 equations:\n",
    "$$3x_1 - 2x_2 + x_3 = 7$$\n",
    "$$x_1 + x_2 + x_3 = 2$$\n",
    "$$3x_1 - 2x_2 - x_3 = 3$$"
   ]
  },
  {
   "cell_type": "code",
   "execution_count": 20,
   "metadata": {
    "collapsed": true
   },
   "outputs": [],
   "source": [
    "# Assign all the a variables\n",
    "a11 = 3\n",
    "a12 = -2\n",
    "a13 = 1\n",
    "a21 = 1\n",
    "a22 = 1\n",
    "a23 = 1\n",
    "a31 = 3\n",
    "a32 = -2\n",
    "a33 = -1"
   ]
  },
  {
   "cell_type": "code",
   "execution_count": 21,
   "metadata": {
    "collapsed": true
   },
   "outputs": [],
   "source": [
    "# Assign all the b variables\n",
    "b1 = 7\n",
    "b2 = 2\n",
    "b3 = 3"
   ]
  },
  {
   "cell_type": "code",
   "execution_count": 22,
   "metadata": {},
   "outputs": [
    {
     "name": "stdout",
     "output_type": "stream",
     "text": [
      "The solution for \n",
      "x1 is 1,\n",
      "x2 is -1,\n",
      "x3 is 2\n"
     ]
    }
   ],
   "source": [
    "# Using the sympy way\n",
    "x1 = sy.Symbol('x1')\n",
    "x2 = sy.Symbol('x2')\n",
    "x3 = sy.Symbol('x3')\n",
    "expr1 = a11*x1 + a12*x2 + a13*x3 - b1\n",
    "expr2 = a21*x1 + a22*x2 + a23*x3 - b2\n",
    "expr3 = a31*x1 + a32*x2 + a33*x3 - b3\n",
    "result = sy.solve((expr1, expr2, expr3), dict=True)\n",
    "print(\"The solution for \\nx1 is %d,\\nx2 is %d,\\nx3 is %d\") % (result[0][x1],\n",
    "                                                              result[0][x2],\n",
    "                                                              result[0][x3])"
   ]
  },
  {
   "cell_type": "code",
   "execution_count": 23,
   "metadata": {},
   "outputs": [
    {
     "name": "stdout",
     "output_type": "stream",
     "text": [
      "The solution for \n",
      "x1 is 1,\n",
      "x2 is -1,\n",
      "x3 is 2\n"
     ]
    }
   ],
   "source": [
    "# Using the matrix way\n",
    "A = np.array([[a11, a12, a13],\n",
    "              [a21, a22, a23],\n",
    "              [a31, a32, a33]])\n",
    "b = np.array([[b1],\n",
    "              [b2],\n",
    "              [b3]])\n",
    "result = solve_sim_eq(A, b)\n",
    "print(\"The solution for \\nx1 is %d,\\nx2 is %d,\\nx3 is %d\") % (result[0, 0],\n",
    "                                                              result[1, 0],\n",
    "                                                              result[2, 0])"
   ]
  },
  {
   "cell_type": "markdown",
   "metadata": {},
   "source": [
    "### What if there is no solution?\n",
    "$$3x_1 + 2x_2 = 12$$\n",
    "$$3x_1 + 2x_2 = 6$$"
   ]
  },
  {
   "cell_type": "code",
   "execution_count": 24,
   "metadata": {
    "collapsed": true
   },
   "outputs": [],
   "source": [
    "# Assign all the a variables\n",
    "a11 = 3\n",
    "a12 = 2\n",
    "a21 = 3\n",
    "a22 = 2"
   ]
  },
  {
   "cell_type": "code",
   "execution_count": 25,
   "metadata": {
    "collapsed": true
   },
   "outputs": [],
   "source": [
    "# Assign all the b variables\n",
    "b1 = 12\n",
    "b2 = 6"
   ]
  },
  {
   "cell_type": "code",
   "execution_count": 26,
   "metadata": {},
   "outputs": [
    {
     "name": "stdout",
     "output_type": "stream",
     "text": [
      "There is no result\n"
     ]
    }
   ],
   "source": [
    "# Using the sympy way\n",
    "x1 = sy.Symbol('x1')\n",
    "x2 = sy.Symbol('x2')\n",
    "expr1 = a11*x1 + a12*x2 - b1\n",
    "expr2 = a21*x1 + a22*x2 - b2\n",
    "result = sy.solve((expr1, expr2), dict=True)\n",
    "if result == []:\n",
    "    print(\"There is no result\")\n",
    "else:\n",
    "    print(\"The solution for \\nx1 is %d,\\nx2 is %d\") % (result[0][x1],\n",
    "                                                       result[0][x2])"
   ]
  },
  {
   "cell_type": "code",
   "execution_count": 27,
   "metadata": {},
   "outputs": [
    {
     "data": {
      "image/png": "[encoded data removed]",
      "text/plain": [
       "<matplotlib.figure.Figure at 0x10df3f310>"
      ]
     },
     "metadata": {},
     "output_type": "display_data"
    }
   ],
   "source": [
    "# When we plot this we can see the lines are parallell to each other\n",
    "p = plot(sy.solve(expr1, x2)[0],\n",
    "         sy.solve(expr2, x2)[0],\n",
    "         legend=True,\n",
    "         show=False)\n",
    "p[0].line_color = 'b'\n",
    "p[1].line_color = 'r'\n",
    "p.show()"
   ]
  },
  {
   "cell_type": "code",
   "execution_count": 28,
   "metadata": {},
   "outputs": [
    {
     "name": "stdout",
     "output_type": "stream",
     "text": [
      "There is no result\n"
     ]
    }
   ],
   "source": [
    "# Using the matrix way\n",
    "A = np.array([[a11, a12],\n",
    "              [a21, a22]])\n",
    "b = np.array([[b1],\n",
    "              [b2]])\n",
    "result = solve_sim_eq(A, b)\n",
    "if result == []:\n",
    "    print(\"There is no result\")\n",
    "else:\n",
    "    print(\"The solution for \\nx1 is %d,\\nx2 is %d\") % (result[0][x1],\n",
    "                                                       result[0][x2])"
   ]
  },
  {
   "cell_type": "markdown",
   "metadata": {},
   "source": [
    "### What if there are infinite solutions?\n",
    "$$6x_1 + 4x_2 = 12$$\n",
    "$$3x_1 + 2x_2 = 6$$"
   ]
  },
  {
   "cell_type": "code",
   "execution_count": 29,
   "metadata": {
    "collapsed": true
   },
   "outputs": [],
   "source": [
    "# Assign all the a variables\n",
    "a11 = 6\n",
    "a12 = 4\n",
    "a21 = 3\n",
    "a22 = 2"
   ]
  },
  {
   "cell_type": "code",
   "execution_count": 30,
   "metadata": {
    "collapsed": true
   },
   "outputs": [],
   "source": [
    "# Assign all the b variables\n",
    "b1 = 12\n",
    "b2 = 6"
   ]
  },
  {
   "cell_type": "code",
   "execution_count": 31,
   "metadata": {},
   "outputs": [
    {
     "name": "stdout",
     "output_type": "stream",
     "text": [
      "There are infinite solutions: -2*x2/3 + 2\n"
     ]
    }
   ],
   "source": [
    "# Using the sympy way\n",
    "x1 = sy.Symbol('x1')\n",
    "x2 = sy.Symbol('x2')\n",
    "expr1 = a11*x1 + a12*x2 - b1\n",
    "expr2 = a21*x1 + a22*x2 - b2\n",
    "result = sy.solve((expr1, expr2), dict=True)\n",
    "if result == []:\n",
    "    print(\"There is no result\")\n",
    "elif x2 not in result:\n",
    "    print(\"There are infinite solutions: %s\") % (result[0][x1])\n",
    "else:\n",
    "    print(\"The solution for \\nx1 is %d,\\nx2 is %d\") % (result[0][x1],\n",
    "                                                       result[0][x2])"
   ]
  },
  {
   "cell_type": "code",
   "execution_count": 32,
   "metadata": {
    "scrolled": true
   },
   "outputs": [
    {
     "data": {
      "image/png": "[encoded data removed]",
      "text/plain": [
       "<matplotlib.figure.Figure at 0x10df25750>"
      ]
     },
     "metadata": {},
     "output_type": "display_data"
    }
   ],
   "source": [
    "# When we plot this we can see the lines are on top of each other\n",
    "p = plot(sy.solve(expr1, x2)[0],\n",
    "         sy.solve(expr2, x2)[0],\n",
    "          legend=True,\n",
    "          show=False)\n",
    "p[0].line_color = 'blue'\n",
    "p[1].line_color = 'pink'\n",
    "p.show()"
   ]
  },
  {
   "cell_type": "code",
   "execution_count": 33,
   "metadata": {},
   "outputs": [
    {
     "name": "stdout",
     "output_type": "stream",
     "text": [
      "There are infinite solutions\n"
     ]
    }
   ],
   "source": [
    "# Using the matrix way\n",
    "A = np.array([[a11, a12],\n",
    "              [a21, a22]])\n",
    "b = np.array([[b1],\n",
    "              [b2]])\n",
    "result = solve_sim_eq(A, b)\n",
    "if result == []:\n",
    "    print(\"There is no result\")\n",
    "elif result == [np.Infinity]:\n",
    "    print(\"There are infinite solutions\")\n",
    "else:\n",
    "    print(\"The solution for \\nx1 is %d,\\nx2 is %d\") % (result[0][x1],\n",
    "                                                       result[0][x2])"
   ]
  }
 ],
 "metadata": {
  "kernelspec": {
   "display_name": "Python 2",
   "language": "python",
   "name": "python2"
  },
  "language_info": {
   "codemirror_mode": {
    "name": "ipython",
    "version": 2
   },
   "file_extension": ".py",
   "mimetype": "text/x-python",
   "name": "python",
   "nbconvert_exporter": "python",
   "pygments_lexer": "ipython2",
   "version": "2.7.13"
  }
 },
 "nbformat": 4,
 "nbformat_minor": 2
}
