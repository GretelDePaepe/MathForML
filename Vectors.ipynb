{
 "cells": [
  {
   "cell_type": "markdown",
   "metadata": {
    "collapsed": true
   },
   "source": [
    "# Modulus & Inner Product, its angle and projection"
   ]
  },
  {
   "cell_type": "code",
   "execution_count": 118,
   "metadata": {},
   "outputs": [],
   "source": [
    "import numpy as np\n",
    "import sympy as sy\n",
    "from sympy.plotting import plot"
   ]
  },
  {
   "cell_type": "code",
   "execution_count": 119,
   "metadata": {},
   "outputs": [],
   "source": [
    "# Let's define a vector r\n",
    "a = 2.\n",
    "b = 3.\n",
    "r = np.array([a, b])"
   ]
  },
  {
   "cell_type": "code",
   "execution_count": 120,
   "metadata": {},
   "outputs": [],
   "source": [
    "# In order to plot it on a graph, we also define the origin\n",
    "a0 = 0\n",
    "b0 = 0"
   ]
  },
  {
   "cell_type": "code",
   "execution_count": 121,
   "metadata": {},
   "outputs": [
    {
     "data": {
      "text/plain": [
       "1.5"
      ]
     },
     "execution_count": 121,
     "metadata": {},
     "output_type": "execute_result"
    }
   ],
   "source": [
    "# In order to plot this using sympy, we need to write the vector as \n",
    "# a line, aka y = slope*x + y_intercept\n",
    "slope = (b - b0) / (a - a0)\n",
    "slope"
   ]
  },
  {
   "cell_type": "markdown",
   "metadata": {},
   "source": [
    "The slope is defined by the rise over run, or change over b divided by the change over a\n",
    "\n",
    "$$ \\frac{{\\Delta}b}{{\\Delta}a}$$\n",
    "$$ \\frac{b - b_0}{a - a_0}$$"
   ]
  },
  {
   "cell_type": "code",
   "execution_count": 122,
   "metadata": {},
   "outputs": [],
   "source": [
    "x = sy.Symbol('x')"
   ]
  },
  {
   "cell_type": "code",
   "execution_count": 123,
   "metadata": {
    "collapsed": true
   },
   "outputs": [],
   "source": [
    "f = slope*x # y-intercept is 0 since goes trough point (0, 0)"
   ]
  },
  {
   "cell_type": "code",
   "execution_count": 124,
   "metadata": {},
   "outputs": [
    {
     "data": {
      "image/png": "[encoded data removed]",
      "text/plain": [
       "<matplotlib.figure.Figure at 0x11aafc650>"
      ]
     },
     "metadata": {},
     "output_type": "display_data"
    }
   ],
   "source": [
    "p = plot(f, (x, 0, 2),\n",
    "         title='Vector r')"
   ]
  },
  {
   "cell_type": "markdown",
   "metadata": {},
   "source": [
    "## Calculate the Length of Vector r"
   ]
  },
  {
   "cell_type": "code",
   "execution_count": 125,
   "metadata": {
    "collapsed": true
   },
   "outputs": [],
   "source": [
    "import math\n",
    "import matplotlib.pyplot as plt\n",
    "%matplotlib inline"
   ]
  },
  {
   "cell_type": "code",
   "execution_count": 126,
   "metadata": {},
   "outputs": [],
   "source": [
    "x = [[0, 2], [2, 2], [0, 2]]\n",
    "y = [[0, 0], [0, 3], [0, 3]]"
   ]
  },
  {
   "cell_type": "code",
   "execution_count": 127,
   "metadata": {},
   "outputs": [
    {
     "data": {
      "text/plain": [
       "<matplotlib.text.Text at 0x11b4d3e50>"
      ]
     },
     "execution_count": 127,
     "metadata": {},
     "output_type": "execute_result"
    },
    {
     "data": {
      "image/png": "[encoded data removed]",
      "text/plain": [
       "<matplotlib.figure.Figure at 0x11a6f0fd0>"
      ]
     },
     "metadata": {},
     "output_type": "display_data"
    }
   ],
   "source": [
    "plt.plot(x[0], y[0], '-')\n",
    "plt.text(2.01, 1.5, 'b', fontdict={'color':'green'})\n",
    "\n",
    "plt.plot(x[2], y[2], '-')\n",
    "plt.text(1, 1.7, '|r|', fontdict={'color':'orange'})\n",
    "\n",
    "plt.plot(x[1], y[1], '-')\n",
    "plt.text(1, 0.07, 'a', fontdict={'color':'blue'})"
   ]
  },
  {
   "cell_type": "markdown",
   "metadata": {},
   "source": [
    "From the graph above we can see that c is the hypotenuse of a right angled triangle.  This means we can use Pythagoras Theorem, which states that:\n",
    "\n",
    "$ c^2 = a^2 + b^2$  or $ c = \\sqrt{a^2 + b^2} $\n",
    "\n",
    "In the case above we labeled c as |r| which stands for length of r."
   ]
  },
  {
   "cell_type": "code",
   "execution_count": 128,
   "metadata": {},
   "outputs": [
    {
     "data": {
      "text/plain": [
       "3.605551275463989"
      ]
     },
     "execution_count": 128,
     "metadata": {},
     "output_type": "execute_result"
    }
   ],
   "source": [
    "r_length = math.sqrt(a**2 + b**2)\n",
    "r_length"
   ]
  },
  {
   "cell_type": "markdown",
   "metadata": {},
   "source": [
    "In summary:\n",
    "<font color='red'>\n",
    "$$r = \\begin{bmatrix} a\\\\ b \\end{bmatrix}$$\n",
    "\n",
    "$$|r| = \\sqrt{a^2 + b^2}$$\n",
    "</font>"
   ]
  },
  {
   "cell_type": "markdown",
   "metadata": {},
   "source": [
    "## Dot product"
   ]
  },
  {
   "cell_type": "code",
   "execution_count": 129,
   "metadata": {
    "collapsed": true
   },
   "outputs": [],
   "source": [
    "# Let's define two vectors r and s\n",
    "ri = 3.\n",
    "rj = 2.\n",
    "r = np.array([ri, rj])\n",
    "si = -1.\n",
    "sj = 2.\n",
    "s = np.array([si, sj])"
   ]
  },
  {
   "cell_type": "code",
   "execution_count": 130,
   "metadata": {},
   "outputs": [
    {
     "data": {
      "text/plain": [
       "<matplotlib.text.Text at 0x11a877a50>"
      ]
     },
     "execution_count": 130,
     "metadata": {},
     "output_type": "execute_result"
    },
    {
     "data": {
      "image/png": "[encoded data removed]",
      "text/plain": [
       "<matplotlib.figure.Figure at 0x116ebc450>"
      ]
     },
     "metadata": {},
     "output_type": "display_data"
    }
   ],
   "source": [
    "plt.plot([0, ri], [0, rj], '-')\n",
    "plt.text(3.01, 2.0, 'r', fontdict={'color':'blue'})\n",
    "\n",
    "plt.plot([0, si], [0, sj], '-')\n",
    "plt.text(-1.1, 2, 's', fontdict={'color':'orange'})"
   ]
  },
  {
   "cell_type": "markdown",
   "metadata": {},
   "source": [
    "The dot product of vector r and vector s is defined by:\n",
    "<font color='red'>$$ r.s = r_i*s_i + r_j*s_j$$</font>"
   ]
  },
  {
   "cell_type": "code",
   "execution_count": 131,
   "metadata": {},
   "outputs": [
    {
     "data": {
      "text/plain": [
       "1.0"
      ]
     },
     "execution_count": 131,
     "metadata": {},
     "output_type": "execute_result"
    }
   ],
   "source": [
    "r_dot_s = ri*si + rj*sj\n",
    "r_dot_s"
   ]
  },
  {
   "cell_type": "code",
   "execution_count": 132,
   "metadata": {},
   "outputs": [
    {
     "data": {
      "text/plain": [
       "1.0"
      ]
     },
     "execution_count": 132,
     "metadata": {},
     "output_type": "execute_result"
    }
   ],
   "source": [
    "# Using the built in numpy dot method for arrays\n",
    "np.dot(r, s)"
   ]
  },
  {
   "cell_type": "markdown",
   "metadata": {},
   "source": [
    "### Commutative"
   ]
  },
  {
   "cell_type": "markdown",
   "metadata": {},
   "source": [
    "<font color='red'>\n",
    "The dot product of vector r and vector s is commutative:\n",
    "\n",
    "$$ r.s = r_i*s_i + r_j*s_j$$\n",
    "\n",
    "is the same as\n",
    "\n",
    "$$ s.r = s_i*r_i + s_j*r_j$$\n",
    "</font>"
   ]
  },
  {
   "cell_type": "code",
   "execution_count": 133,
   "metadata": {},
   "outputs": [
    {
     "data": {
      "text/plain": [
       "True"
      ]
     },
     "execution_count": 133,
     "metadata": {},
     "output_type": "execute_result"
    }
   ],
   "source": [
    "ri*si + rj*sj == si*ri + sj*rj"
   ]
  },
  {
   "cell_type": "code",
   "execution_count": 134,
   "metadata": {},
   "outputs": [
    {
     "data": {
      "text/plain": [
       "True"
      ]
     },
     "execution_count": 134,
     "metadata": {},
     "output_type": "execute_result"
    }
   ],
   "source": [
    "np.dot(r, s) == np.dot(s, r)"
   ]
  },
  {
   "cell_type": "markdown",
   "metadata": {},
   "source": [
    "### Distributive over addition"
   ]
  },
  {
   "cell_type": "markdown",
   "metadata": {},
   "source": [
    "<font color='red'>\n",
    "\n",
    "$$ r.(s + t)$$\n",
    "\n",
    "is the same as\n",
    "\n",
    "$$ r.s + r.t$$\n",
    "\n",
    "</font>"
   ]
  },
  {
   "cell_type": "code",
   "execution_count": 135,
   "metadata": {
    "collapsed": true
   },
   "outputs": [],
   "source": [
    "#Let's add a third vector t\n",
    "ti = 3.\n",
    "tj = -2.\n",
    "t = np.array([ti, tj])"
   ]
  },
  {
   "cell_type": "code",
   "execution_count": 136,
   "metadata": {},
   "outputs": [
    {
     "data": {
      "text/plain": [
       "True"
      ]
     },
     "execution_count": 136,
     "metadata": {},
     "output_type": "execute_result"
    }
   ],
   "source": [
    "np.dot(r, s + t) == np.dot(r, s) + np.dot(r, t)"
   ]
  },
  {
   "cell_type": "markdown",
   "metadata": {},
   "source": [
    "More in general:\n",
    "\n",
    "$r = \\begin{bmatrix} r_1\\\\ r_2 \\\\...\\\\r_n\\end{bmatrix}$\n",
    "$s = \\begin{bmatrix} s_1\\\\ s_2 \\\\...\\\\s_n\\end{bmatrix}$\n",
    "$t = \\begin{bmatrix} t_1\\\\ t_2 \\\\...\\\\t_n\\end{bmatrix}$\n",
    "\n",
    "\n",
    "$$r.(s + t)= r_1*(s_1 + t_1) + r_2*(s_2 + t_2) + ... + r_n*(s_n + t_n)$$\n",
    "$$r.(s + t)= r_1*s_1 + r_1*t_1 + r_2*s_2 + r_2*t_2 + ... + r_n*s_n + r_n*t_n$$\n",
    "$$r.(s + t)= r.s + r.t$$"
   ]
  },
  {
   "cell_type": "markdown",
   "metadata": {},
   "source": [
    "### Associative over Scalar Multiplication"
   ]
  },
  {
   "cell_type": "markdown",
   "metadata": {},
   "source": [
    "<font color='red'>\n",
    "$$r.(a*s)= a*(r.s)$$\n",
    "$$r_i.(a*s_i) + r_j.(a*s_j)= a*(r_i*s_i + r_j*s_j)$$\n",
    "</font>"
   ]
  },
  {
   "cell_type": "code",
   "execution_count": 137,
   "metadata": {},
   "outputs": [
    {
     "data": {
      "text/plain": [
       "True"
      ]
     },
     "execution_count": 137,
     "metadata": {},
     "output_type": "execute_result"
    }
   ],
   "source": [
    "a = 6.\n",
    "np.dot(r, a * s) == a * np.dot(r, s)"
   ]
  },
  {
   "cell_type": "markdown",
   "metadata": {},
   "source": [
    "### Link between the Dot Product and the Size of the Vector"
   ]
  },
  {
   "cell_type": "markdown",
   "metadata": {},
   "source": [
    "$$r.r= r_i*r_i + r_j*r_j$$\n",
    "$$r.r= r_i^2 + r_j^2$$\n",
    "Recall earlier we discovered the length of vector r was equal:\n",
    "$$|r| = \\sqrt{a^2 + b^2}$$\n",
    "When we use $r_i$ and $r_j$ instead of a and b, we get:\n",
    "$$|r| = \\sqrt{r_i^2 + r_j^2} $$   $$=>$$  $$ |r|^2 = r_i^2 + r_j^2$$\n",
    "<font color='red'>\n",
    "Which means the the dot product of a vector with itself, equals its length squared </font>\n",
    "$$r.r= r_i^2 + r_j^2$$\n",
    "<font color='red'>$$r.r= |r|^2$$</font>"
   ]
  },
  {
   "cell_type": "code",
   "execution_count": 138,
   "metadata": {
    "collapsed": true
   },
   "outputs": [],
   "source": [
    "# Let this be the vector r\n",
    "ri = 2.\n",
    "rj = 3.\n",
    "r = np.array([ri, rj])"
   ]
  },
  {
   "cell_type": "code",
   "execution_count": 139,
   "metadata": {},
   "outputs": [
    {
     "data": {
      "text/plain": [
       "3.605551275463989"
      ]
     },
     "execution_count": 139,
     "metadata": {},
     "output_type": "execute_result"
    }
   ],
   "source": [
    "# Earlier we saw the length of r is\n",
    "r_length = math.sqrt(ri**2 + rj**2)\n",
    "r_length"
   ]
  },
  {
   "cell_type": "code",
   "execution_count": 140,
   "metadata": {},
   "outputs": [
    {
     "data": {
      "text/plain": [
       "13.0"
      ]
     },
     "execution_count": 140,
     "metadata": {},
     "output_type": "execute_result"
    }
   ],
   "source": [
    "np.dot(r, r)"
   ]
  },
  {
   "cell_type": "code",
   "execution_count": 141,
   "metadata": {},
   "outputs": [
    {
     "data": {
      "text/plain": [
       "12.999999999999998"
      ]
     },
     "execution_count": 141,
     "metadata": {},
     "output_type": "execute_result"
    }
   ],
   "source": [
    "r_length**2"
   ]
  },
  {
   "cell_type": "code",
   "execution_count": 142,
   "metadata": {},
   "outputs": [
    {
     "data": {
      "text/plain": [
       "True"
      ]
     },
     "execution_count": 142,
     "metadata": {},
     "output_type": "execute_result"
    }
   ],
   "source": [
    "# After rounding we can see that:\n",
    "round(r_length**2,0) == round(np.dot(r, r),0)"
   ]
  },
  {
   "cell_type": "markdown",
   "metadata": {},
   "source": [
    "## The Cosine Rule and Dot Product"
   ]
  },
  {
   "cell_type": "markdown",
   "metadata": {},
   "source": [
    "We can use the cosine formula to find the length of a side or size of an angle. For a triangle with sides a,b and c and angles A, B and C the cosine rule can be written as: <font color='red'>$$c^2 = a^2 + b^2 - 2ab cos \\theta$$</font>"
   ]
  },
  {
   "cell_type": "code",
   "execution_count": 143,
   "metadata": {},
   "outputs": [
    {
     "data": {
      "text/html": [
       "<iframe width=\"560\" height=\"315\" src=\"https://youtube.be/embed/ZElOxG7_m3c?rel=0&amp;controls=0&amp;showinfo=0\" frameborder=\"0\" allowfullscreen></iframe>"
      ],
      "text/plain": [
       "<IPython.core.display.HTML object>"
      ]
     },
     "execution_count": 143,
     "metadata": {},
     "output_type": "execute_result"
    }
   ],
   "source": [
    "from IPython.display import HTML\n",
    "HTML('<iframe width=\"560\" height=\"315\" src=\"https://youtube.be/embed/ZElOxG7_m3c?rel=0&amp;controls=0&amp;showinfo=0\" frameborder=\"0\" allowfullscreen></iframe>')"
   ]
  },
  {
   "cell_type": "code",
   "execution_count": 144,
   "metadata": {},
   "outputs": [
    {
     "data": {
      "text/plain": [
       "0.0"
      ]
     },
     "execution_count": 144,
     "metadata": {},
     "output_type": "execute_result"
    }
   ],
   "source": [
    "# The cosine of an angle of 90 degree is 0.0\n",
    "round(math.cos(math.radians(90)),2)"
   ]
  },
  {
   "cell_type": "markdown",
   "metadata": {},
   "source": [
    "Since the cosine of an angle of 90 degree is 0.0, the last term becomes zero in case of a right angled triangle and we are left with Pythagoras Theorem:\n",
    "$$c^2 = a^2 + b^2$$\n"
   ]
  },
  {
   "cell_type": "markdown",
   "metadata": {},
   "source": [
    "The following code is based on https://stackoverflow.com/questions/25227100/best-way-to-plot-an-angle-between-two-lines-in-matplotlib"
   ]
  },
  {
   "cell_type": "code",
   "execution_count": 145,
   "metadata": {
    "collapsed": true
   },
   "outputs": [],
   "source": [
    "from matplotlib.patches import Arc\n",
    "from matplotlib.lines import Line2D "
   ]
  },
  {
   "cell_type": "code",
   "execution_count": 146,
   "metadata": {
    "collapsed": true
   },
   "outputs": [],
   "source": [
    "def get_angle_plot(line1, line2, offset = 1, color = None, origin = [0,0], len_x_axis = 1, len_y_axis = 1):\n",
    "\n",
    "    l1xy = line1.get_xydata()\n",
    "    \n",
    "    # Angle between line1 and x-axis\n",
    "    slope1 = (l1xy[1][1] - l1xy[0][1]) / float(l1xy[1][0] - l1xy[0][0])\n",
    "    angle1 = abs(math.degrees(math.atan(slope1))) # Taking only the positive angle\n",
    "\n",
    "    l2xy = line2.get_xydata()\n",
    "\n",
    "    # Angle between line2 and x-axis\n",
    "    slope2 = (l2xy[1][1] - l2xy[0][1]) / float(l2xy[1][0] - l2xy[0][0])\n",
    "    angle2 = abs(math.degrees(math.atan(slope2)))\n",
    "\n",
    "    theta1 = min(angle1, angle2)\n",
    "    theta2 = max(angle1, angle2)\n",
    "    print theta1\n",
    "    angle = theta2 - theta1\n",
    "\n",
    "    if color is None:\n",
    "        color = line1.get_color() # Uses the color of line 1 if color parameter is not passed.\n",
    "\n",
    "    return Arc(origin, len_x_axis*offset, len_y_axis*offset, 0, theta1, theta2, color=color, label = str(angle)+u\"\\u00b0\")"
   ]
  },
  {
   "cell_type": "code",
   "execution_count": 147,
   "metadata": {
    "collapsed": true
   },
   "outputs": [],
   "source": [
    "def get_angle_text(angle_plot):\n",
    "    angle = angle_plot.get_label()[:-1] # Excluding the degree symbol\n",
    "    angle = \"%0.2f\"%float(angle)+u\"\\u00b0\" # Display angle upto 2 decimal places\n",
    "\n",
    "    # Get the vertices of the angle arc\n",
    "    vertices = angle_plot.get_verts()\n",
    "\n",
    "    # Get the midpoint of the arc extremes\n",
    "    x_width = (vertices[0][0] + vertices[-1][0]) / 2.0\n",
    "    y_width = (vertices[0][1] + vertices[-1][1]) / 2.0\n",
    "\n",
    "    separation_radius = max(x_width/2.0, y_width/2.0)\n",
    "\n",
    "    return [ x_width + separation_radius, y_width + separation_radius, angle]       "
   ]
  },
  {
   "cell_type": "code",
   "execution_count": 148,
   "metadata": {
    "collapsed": true
   },
   "outputs": [],
   "source": [
    "ri = 3.\n",
    "rj = 1.\n",
    "r = np.array([ri, rj])\n",
    "si = 2.\n",
    "sj = 2.\n",
    "s = np.array([si, sj])"
   ]
  },
  {
   "cell_type": "code",
   "execution_count": 149,
   "metadata": {},
   "outputs": [],
   "source": [
    "c = np.subtract(r, s)\n",
    "ci = c[0]\n",
    "cj = c[1]"
   ]
  },
  {
   "cell_type": "code",
   "execution_count": 150,
   "metadata": {},
   "outputs": [
    {
     "name": "stdout",
     "output_type": "stream",
     "text": [
      "18.4349488229\n"
     ]
    },
    {
     "data": {
      "image/png": "[encoded data removed]",
      "text/plain": [
       "<matplotlib.figure.Figure at 0x11714fb10>"
      ]
     },
     "metadata": {},
     "output_type": "display_data"
    }
   ],
   "source": [
    "fig = plt.figure()\n",
    "\n",
    "ax = fig.add_subplot(1,1,1)\n",
    "ax.set_xlim(0,4)\n",
    "ax.set_ylim(0,3)\n",
    "\n",
    "line_1 = Line2D([0, ri], [0, rj], linewidth=1, linestyle = \"-\", color=\"red\")\n",
    "line_2 = Line2D([0, si], [0, sj], linewidth=1, linestyle = \"-\", color=\"green\")\n",
    "line_3 = Line2D([si, si+ci], [sj, sj+cj], linewidth=1, linestyle = \"-\", color=\"blue\")\n",
    "\n",
    "ax.add_line(line_1)\n",
    "ax.add_line(line_2)\n",
    "ax.add_line(line_3)\n",
    "\n",
    "angle_plot = get_angle_plot(line_1, line_2, 1, color='black')\n",
    "angle_text = get_angle_text(angle_plot) \n",
    "\n",
    "ax.add_patch(angle_plot) # To display the angle arc\n",
    "ax.text(*angle_text) # To display the angle value\n",
    "\n",
    "plt.text(0.7, 1.2, 'b or s', fontdict={'color':'green'})\n",
    "plt.text(1.5, 0.2, 'a or r', fontdict={'color':'red'})\n",
    "plt.text(2.6, 1.5, 'c or r-s', fontdict={'color':'blue'})\n",
    "plt.text(0.5, 0.3, r'$\\dot{\\Theta}$', fontdict={'color':'black'})\n",
    "\n",
    "plt.show()"
   ]
  },
  {
   "cell_type": "markdown",
   "metadata": {},
   "source": [
    "Recall the cosine rule:\n",
    "$$c^2 = a^2 + b^2 - 2ab cos \\theta$$\n",
    "Let's rewrite this to:\n",
    "$$|r-s|^2=|r|^2 + |s|^2 -2|r||s|cos \\theta$$\n",
    "From the link between the Dot Product and the Size of the Vector, we know that:\n",
    "$$(r-s).(r-s) = |r-s|^2$$\n",
    "This means that:\n",
    "$$(r-s).(r-s) =|r|^2 + |s|^2 -2|r||s|cos \\theta$$\n",
    "Now let's multiply this out:\n",
    "$$(r-s).(r-s) = r.r - r.s -r.s -s.-s$$\n",
    "$$(r-s).(r-s) = |r|^2 - 2r.s + |s|^2$$\n",
    "And plug this into the equation above:\n",
    "$$ |r|^2 - 2r.s + |s|^2 = |r|^2 + |s|^2 -2|r||s|cos \\theta$$\n",
    "After simplifying:\n",
    "<font color='red'>$$ r.s = |r||s|cos \\theta$$</font>"
   ]
  },
  {
   "cell_type": "code",
   "execution_count": 151,
   "metadata": {},
   "outputs": [
    {
     "name": "stdout",
     "output_type": "stream",
     "text": [
      "8.0\n",
      "8.0\n"
     ]
    }
   ],
   "source": [
    "# So let's put this to the test and see if they are the same\n",
    "print round(np.dot(r, s), 2)\n",
    "print round(math.sqrt(ri**2 + rj**2) * \n",
    "            math.sqrt(si**2 + sj**2) * \n",
    "            math.cos(math.radians(26.57)),2)"
   ]
  },
  {
   "cell_type": "markdown",
   "metadata": {},
   "source": [
    "### Special cases"
   ]
  },
  {
   "cell_type": "markdown",
   "metadata": {},
   "source": [
    "$ r.s = |r||s|cos \\theta$\n",
    "$$$$\n",
    "If $\\theta= 90^o$ then $cos(\\theta) = 0$, which means $r.s = 0$\n",
    "$$$$\n",
    "If $\\theta= 0^o$ then $cos(\\theta) = 1$, which means $r.s = |r||s|$\n",
    "$$$$\n",
    "If $\\theta= 180^o$ then $cos(\\theta) = -1$, which means $r.s = -|r||s|$\n",
    "\n",
    "So \n",
    "if the dot product of 2 vectors is zero, the vectors are orthogonal\n",
    "if the dot product of 2 vectors is positive, the vectors are going the same way\n",
    "if the dot product of 2 vectors is negative, the vectors are going in opposite directions"
   ]
  },
  {
   "cell_type": "markdown",
   "metadata": {},
   "source": [
    "## Projection"
   ]
  },
  {
   "cell_type": "code",
   "execution_count": 152,
   "metadata": {},
   "outputs": [
    {
     "data": {
      "image/png": "[encoded data removed]",
      "text/plain": [
       "<matplotlib.figure.Figure at 0x116edccd0>"
      ]
     },
     "metadata": {},
     "output_type": "display_data"
    }
   ],
   "source": [
    "x1=[0,0,6,2]\n",
    "x2=[0,0,2,4]\n",
    "x3=[2,4,1,-3]\n",
    "soa =np.array([x1,x2,x3]) \n",
    "X,Y,U,V = zip(*soa) \n",
    "plt.figure()\n",
    "ax = plt.gca()\n",
    "ax.quiver(X,Y,U,V,angles='xy',scale_units='xy',scale=1)\n",
    "ax.set_xlim([0,7])\n",
    "ax.set_ylim([0,7])\n",
    "plt.axes().set_aspect('equal')\n",
    "plt.show()"
   ]
  },
  {
   "cell_type": "markdown",
   "metadata": {},
   "source": [
    "$$ \\cos\\theta = \\frac{adj}{hyp} = \\frac{adj}{|s|}$$\n",
    "$$ r.s = |r||s|cos \\theta$$\n",
    "$$r.s = |r||s|\\frac{adj}{|s|}$$\n",
    "$$r.s = |r|adj$$\n",
    "\n",
    "<font color='red'>\n",
    "Scalar projection\n",
    "$$\\frac{r.s}{|r|} = |s|cos \\theta$$\n",
    "Vector projection\n",
    "$$r\\frac{r.s}{|r||r|} = r\\frac{r.s}{r.r}$$\n",
    "</font>"
   ]
  },
  {
   "cell_type": "markdown",
   "metadata": {},
   "source": [
    "# Summary"
   ]
  },
  {
   "cell_type": "markdown",
   "metadata": {},
   "source": [
    "<font color='red'>\n",
    "The length of a vector:\n",
    "$$r = \\begin{bmatrix} r_i\\\\ r_j \\end{bmatrix}$$\n",
    "$$|r| = \\sqrt{r_i^2 + r_j^2}$$\n",
    "<hr>\n",
    "The dot product of vector r and 2:\n",
    "$$ r.s = r_i*s_i + r_j*s_j$$\n",
    "<hr>\n",
    "The dot product of vector r and s is commutative:\n",
    "$$ r.s = r_i*s_i + r_j*s_j$$\n",
    "is the same as\n",
    "$$ s.r = s_i*r_i + s_j*r_j$$\n",
    "<hr>\n",
    "Dot product is distributive over addition:\n",
    "$$ r.(s + t)$$\n",
    "is the same as\n",
    "$$ r.s + r.t$$\n",
    "<hr>\n",
    "Dot product is associative over scalar multiplication:\n",
    "$$r.(a*s)$$\n",
    "is the same as\n",
    "$$a*(r.s)$$\n",
    "<hr>\n",
    "There is a link between the dot product and the size of the vector:\n",
    "$$r.r= |r|^2$$\n",
    "<hr>\n",
    "Dot product and the cosine rule:\n",
    "$$ r.s = |r||s|cos \\theta$$\n",
    "<hr>\n",
    "Scalar projection\n",
    "$$\\frac{r.s}{|r|} = |s|cos \\theta$$\n",
    "<hr>\n",
    "Vector projection\n",
    "$$r\\frac{r.s}{|r||r|} = r\\frac{r.s}{r.r}$$\n",
    "</font>"
   ]
  },
  {
   "cell_type": "code",
   "execution_count": null,
   "metadata": {
    "collapsed": true
   },
   "outputs": [],
   "source": []
  }
 ],
 "metadata": {
  "kernelspec": {
   "display_name": "Python 2",
   "language": "python",
   "name": "python2"
  },
  "language_info": {
   "codemirror_mode": {
    "name": "ipython",
    "version": 2
   },
   "file_extension": ".py",
   "mimetype": "text/x-python",
   "name": "python",
   "nbconvert_exporter": "python",
   "pygments_lexer": "ipython2",
   "version": "2.7.13"
  }
 },
 "nbformat": 4,
 "nbformat_minor": 2
}
